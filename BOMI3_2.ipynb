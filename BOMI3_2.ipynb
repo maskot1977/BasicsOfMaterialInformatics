{
  "nbformat": 4,
  "nbformat_minor": 0,
  "metadata": {
    "colab": {
      "name": "BOMI3-2",
      "provenance": [],
      "include_colab_link": true
    },
    "kernelspec": {
      "name": "python3",
      "display_name": "Python 3"
    }
  },
  "cells": [
    {
      "cell_type": "markdown",
      "metadata": {
        "id": "view-in-github",
        "colab_type": "text"
      },
      "source": [
        "<a href=\"https://colab.research.google.com/github/maskot1977/BasicsOfMaterialInformatics/blob/master/BOMI3_2.ipynb\" target=\"_parent\"><img src=\"https://colab.research.google.com/assets/colab-badge.svg\" alt=\"Open In Colab\"/></a>"
      ]
    },
    {
      "cell_type": "markdown",
      "metadata": {
        "id": "jOUx3FXOxL_X",
        "colab_type": "text"
      },
      "source": [
        "# 第３節　データの可視化・低次元化\n",
        "\n",
        "## 3-2. GTM"
      ]
    },
    {
      "cell_type": "code",
      "metadata": {
        "id": "K1HcmSaPxKEf",
        "colab_type": "code",
        "colab": {}
      },
      "source": [
        ""
      ],
      "execution_count": 0,
      "outputs": []
    }
  ]
}